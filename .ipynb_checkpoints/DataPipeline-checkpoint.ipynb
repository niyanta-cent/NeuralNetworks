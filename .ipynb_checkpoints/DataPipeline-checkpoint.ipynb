{
 "cells": [
  {
   "cell_type": "code",
   "execution_count": 1,
   "metadata": {
    "executionInfo": {
     "elapsed": 1054,
     "status": "ok",
     "timestamp": 1628788236080,
     "user": {
      "displayName": "Vaishali CS",
      "photoUrl": "",
      "userId": "08221778079764733474"
     },
     "user_tz": 240
    },
    "id": "UVieeYI3jAz0"
   },
   "outputs": [],
   "source": [
    "\n",
    "import pandas as pd \n",
    "import numpy as np \n",
    "from sklearn.base import BaseEstimator, TransformerMixin\n",
    "from geopy import distance\n",
    "from sklearn.pipeline import Pipeline,FeatureUnion\n",
    "from sklearn.compose import ColumnTransformer\n",
    "from sklearn.preprocessing import StandardScaler\n",
    "from sklearn.preprocessing import OneHotEncoder\n",
    "from sklearn.impute import SimpleImputer\n",
    "import joblib"
   ]
  },
  {
   "cell_type": "code",
   "execution_count": 2,
   "metadata": {
    "colab": {
     "base_uri": "https://localhost:8080/"
    },
    "executionInfo": {
     "elapsed": 274,
     "status": "ok",
     "timestamp": 1628788236351,
     "user": {
      "displayName": "Vaishali CS",
      "photoUrl": "",
      "userId": "08221778079764733474"
     },
     "user_tz": 240
    },
    "id": "0r3O3H2ljDJn",
    "outputId": "b8d0267c-c7b4-4447-d953-b842ad459237"
   },
   "outputs": [
    {
     "name": "stdout",
     "output_type": "stream",
     "text": [
      "<class 'pandas.core.frame.DataFrame'>\n",
      "Int64Index: 25115 entries, 0 to 25568\n",
      "Data columns (total 35 columns):\n",
      " #   Column                 Non-Null Count  Dtype  \n",
      "---  ------                 --------------  -----  \n",
      " 0   X                      25115 non-null  float64\n",
      " 1   Y                      25115 non-null  float64\n",
      " 2   OBJECTID               25115 non-null  int64  \n",
      " 3   event_unique_id        25115 non-null  object \n",
      " 4   Primary_Offence        25115 non-null  object \n",
      " 5   Occurrence_Date        25115 non-null  object \n",
      " 6   Occurrence_Year        25115 non-null  int64  \n",
      " 7   Occurrence_Month       25115 non-null  object \n",
      " 8   Occurrence_DayOfWeek   25115 non-null  object \n",
      " 9   Occurrence_DayOfMonth  25115 non-null  int64  \n",
      " 10  Occurrence_DayOfYear   25115 non-null  int64  \n",
      " 11  Occurrence_Hour        25115 non-null  int64  \n",
      " 12  Report_Date            25115 non-null  object \n",
      " 13  Report_Year            25115 non-null  int64  \n",
      " 14  Report_Month           25115 non-null  object \n",
      " 15  Report_DayOfWeek       25115 non-null  object \n",
      " 16  Report_DayOfMonth      25115 non-null  int64  \n",
      " 17  Report_DayOfYear       25115 non-null  int64  \n",
      " 18  Report_Hour            25115 non-null  int64  \n",
      " 19  Division               25115 non-null  object \n",
      " 20  City                   25115 non-null  object \n",
      " 21  Hood_ID                25115 non-null  object \n",
      " 22  NeighbourhoodName      25115 non-null  object \n",
      " 23  Location_Type          25115 non-null  object \n",
      " 24  Premises_Type          25115 non-null  object \n",
      " 25  Bike_Make              24994 non-null  object \n",
      " 26  Bike_Model             15621 non-null  object \n",
      " 27  Bike_Type              25115 non-null  object \n",
      " 28  Bike_Speed             25115 non-null  int64  \n",
      " 29  Bike_Colour            23099 non-null  object \n",
      " 30  Cost_of_Bike           23674 non-null  float64\n",
      " 31  Status                 25115 non-null  int64  \n",
      " 32  Longitude              25115 non-null  float64\n",
      " 33  Latitude               25115 non-null  float64\n",
      " 34  ObjectId2              25115 non-null  int64  \n",
      "dtypes: float64(5), int64(12), object(18)\n",
      "memory usage: 6.9+ MB\n"
     ]
    },
    {
     "name": "stderr",
     "output_type": "stream",
     "text": [
      "/usr/local/lib/python3.7/dist-packages/IPython/core/interactiveshell.py:2718: DtypeWarning: Columns (21) have mixed types.Specify dtype option on import or set low_memory=False.\n",
      "  interactivity=interactivity, compiler=compiler, result=result)\n"
     ]
    }
   ],
   "source": [
    "\n",
    "df = pd.read_csv(\"Bicycle_Thefts.csv\")\n",
    "from geopy import distance\n",
    "\n",
    "CNtower = [43.642567, -79.387054]\n",
    "#cleaning the Status column and label encoding it\n",
    "df = df[df['Status'] != 'UNKNOWN']\n",
    "df['Status'] = df['Status'].replace('STOLEN',0)\n",
    "df['Status'] = df['Status'].replace('RECOVERED',1)\n",
    "df['Status'].astype(int)\n",
    "df.info()\n",
    "\n"
   ]
  },
  {
   "cell_type": "code",
   "execution_count": 3,
   "metadata": {
    "executionInfo": {
     "elapsed": 5,
     "status": "ok",
     "timestamp": 1628788236351,
     "user": {
      "displayName": "Vaishali CS",
      "photoUrl": "",
      "userId": "08221778079764733474"
     },
     "user_tz": 240
    },
    "id": "DWr_j_YJjLXV"
   },
   "outputs": [],
   "source": [
    "\n",
    "X = df.drop(columns=['Status'])\n",
    "y = df['Status']\n"
   ]
  },
  {
   "cell_type": "code",
   "execution_count": 4,
   "metadata": {
    "executionInfo": {
     "elapsed": 137,
     "status": "ok",
     "timestamp": 1628788236484,
     "user": {
      "displayName": "Vaishali CS",
      "photoUrl": "",
      "userId": "08221778079764733474"
     },
     "user_tz": 240
    },
    "id": "XERVrzyojVvC"
   },
   "outputs": [],
   "source": [
    "\n",
    "from sklearn.model_selection import train_test_split\n",
    "X_train,X_test,y_train,y_test = train_test_split(X,y,test_size=0.3,random_state=42,stratify=y)\n",
    "\n",
    "def getDistance(input_distance):\n",
    "    coordinates_to = [input_distance['Latitude'], input_distance['Longitude']]\n",
    "    distance_geopy = distance.distance(CNtower, coordinates_to).km\n",
    "    # print('distance using geopy: ', distance_geopy)\n",
    "\n",
    "    distance_geopy_great_circle = distance.great_circle(CNtower, coordinates_to).km\n",
    "    # print('distance using geopy great circle: ', distance_geopy_great_circle)\n",
    "    return round(distance_geopy_great_circle, 4)\n",
    "\n",
    "\n",
    "def replace_division(div):\n",
    "    if div in ['D14', 'D52', 'D51', 'D53', 'D55']:\n",
    "        return div\n",
    "    else:\n",
    "       return 'Others'\n",
    "\n",
    "def replace_neighbourhood(neighbourhood):\n",
    "    if neighbourhood in ['Waterfront Communities-The Island (77)', 'Bay Street Corridor (76)',\n",
    "                         'Church-Yonge Corridor (75)', 'Niagara (82)', 'Annex (95)']:\n",
    "        return neighbourhood\n",
    "    else:\n",
    "       return 'Others'\n",
    "\n",
    "def replace_premises(prem):\n",
    "  if prem in ['Outside', 'Apartment', 'House', 'Commercial', 'Other']:\n",
    "        return prem\n",
    "  else:\n",
    "       return 'Other'\n",
    "\n",
    "def replace_location(loc):\n",
    "  if loc in ['Apartment (Rooming House, Condo)', 'Streets, Roads, Highways (Bicycle Path, Private Road)',\n",
    "              'Single Home, House (Attach Garage, Cottage, Mobile)', 'Parking Lots (Apt., Commercial Or Non-Commercial)',\n",
    "              'Other Commercial / Corporate Places (For Profit, Warehouse, Corp. Bldg']:\n",
    "        return loc\n",
    "  else:\n",
    "       return 'Others'\n",
    "\n",
    "def replace_make(make):\n",
    "  if make in ['OT', 'UK', 'GI', 'OTHER', 'TR']:\n",
    "        return make\n",
    "  else:\n",
    "       return 'OTHER'\n",
    "\n",
    "def replace_model(model):\n",
    "  if model in ['UNKNOWN', 'HYBRID', 'ESCAPE', 'SIRRUS', 'MOUNTAIN BIKE']:\n",
    "        return model\n",
    "  else:\n",
    "        return 'Others'\n",
    "\n",
    "\n",
    "def modify_biketype(input_type):\n",
    "    if input_type in ['MT', 'RG', 'OT', 'RC', 'EL']:\n",
    "        return input_type\n",
    "    else:\n",
    "        return 'Others'\n",
    "\n",
    "\n",
    "def modify_bikecolour(color):\n",
    "    if color in ['BLK', 'BLU', 'GRY', 'WHI', 'RED']:\n",
    "        return color\n",
    "    else:\n",
    "        return 'Others'\n",
    "# In[372]:\n",
    "\n",
    "def modify_month(month):\n",
    "    if month in ['January', 'February', 'March', 'April', 'May', 'June']:\n",
    "        return \"First Half\"\n",
    "    else:\n",
    "        return \"Second Half\"\n",
    "\n",
    "class NumericalTransformer(BaseEstimator,TransformerMixin):\n",
    "    def __init__(self,cols):\n",
    "        self.cols=cols\n",
    "    \n",
    "    def fit(self, X, y=None):\n",
    "        return self\n",
    "    \n",
    "    def transform(self, X, y=None):\n",
    "       \n",
    "        X.loc[:, 'distance_from_cn'] = X.apply(getDistance, axis=1)\n",
    "        X.loc[:, 'Cost_of_Bike'] = X.loc[:, 'Cost_of_Bike'].replace(0, X.loc[:, 'Cost_of_Bike'].median())\n",
    "        self.cols.append('distance_from_cn')\n",
    "        return X[['Bike_Speed', 'Cost_of_Bike', 'distance_from_cn']]\n"
   ]
  },
  {
   "cell_type": "code",
   "execution_count": 5,
   "metadata": {
    "colab": {
     "base_uri": "https://localhost:8080/"
    },
    "executionInfo": {
     "elapsed": 6,
     "status": "ok",
     "timestamp": 1628788236485,
     "user": {
      "displayName": "Vaishali CS",
      "photoUrl": "",
      "userId": "08221778079764733474"
     },
     "user_tz": 240
    },
    "id": "Y9cwRvIajWSZ",
    "outputId": "719c8442-6fdd-4c08-86aa-15236bb6e3b8"
   },
   "outputs": [
    {
     "name": "stdout",
     "output_type": "stream",
     "text": [
      "['Bike_Speed', 'Cost_of_Bike', 'distance_from_cn']\n",
      "['Occurrence_DayOfWeek', 'Division', 'NeighbourhoodName', 'Premises_Type', 'Location_Type', 'Report_Month', 'Occurrence_Month', 'Bike_Make', 'Bike_Model', 'Bike_Type', 'Bike_Colour']\n"
     ]
    }
   ],
   "source": [
    "\n",
    "\n",
    "class CategoricalTransformer(BaseEstimator,TransformerMixin):\n",
    "    def __init__ (self,cols):\n",
    "        self.cols=cols\n",
    "        \n",
    "    \n",
    "    def fit(self, X, y=None):\n",
    "        return self\n",
    "    \n",
    "    def transform(self, X, y=None):\n",
    "        X.loc[:, 'Division'] = X.loc[:, 'Division'].apply(replace_division)\n",
    "        X.loc[:, 'NeighbourhoodName'] = X.loc[:, 'NeighbourhoodName'].apply(replace_neighbourhood)\n",
    "        X.loc[:, 'Premises_Type'] = X.loc[:, 'Premises_Type'].apply(replace_premises)\n",
    "        X.loc[:, 'Location_Type'] = X.loc[:, 'Location_Type'].apply(replace_location)\n",
    "        X.loc[:, 'Bike_Make'] = X.loc[:, 'Bike_Make'].apply(replace_make)\n",
    "        X.loc[:, 'Bike_Model'] = X.loc[:, 'Bike_Model'].apply(replace_model)\n",
    "        X.loc[:, 'Bike_Type'] = X.loc[:, 'Bike_Type'].apply(modify_biketype)\n",
    "        X.loc[:, 'Bike_Colour'] = X.loc[:, 'Bike_Colour'].apply(modify_bikecolour)\n",
    "        X.loc[:, 'Report_Month'] = X.loc[:, 'Report_Month'].apply(modify_month)\n",
    "        X.loc[:, 'Occurrence_Month'] = X.loc[:, 'Occurrence_Month'].apply(modify_month)\n",
    "\n",
    "        return X[self.cols]\n",
    "\n",
    "num_cols = ['Bike_Speed','Cost_of_Bike', 'distance_from_cn']\n",
    "cat_cols = ['Occurrence_DayOfWeek', 'Division','NeighbourhoodName','Premises_Type', 'Location_Type', 'Report_Month', 'Occurrence_Month',\n",
    "            'Bike_Make','Bike_Model','Bike_Type','Bike_Colour']\n",
    "print(num_cols)\n",
    "print(cat_cols)"
   ]
  },
  {
   "cell_type": "code",
   "execution_count": 6,
   "metadata": {
    "colab": {
     "base_uri": "https://localhost:8080/"
    },
    "executionInfo": {
     "elapsed": 7625,
     "status": "ok",
     "timestamp": 1628788244106,
     "user": {
      "displayName": "Vaishali CS",
      "photoUrl": "",
      "userId": "08221778079764733474"
     },
     "user_tz": 240
    },
    "id": "SvIRfTMYjnPO",
    "outputId": "6796c5f8-ed43-4da0-b2c9-f89118e76a23"
   },
   "outputs": [
    {
     "name": "stderr",
     "output_type": "stream",
     "text": [
      "/usr/local/lib/python3.7/dist-packages/pandas/core/indexing.py:1596: SettingWithCopyWarning: \n",
      "A value is trying to be set on a copy of a slice from a DataFrame.\n",
      "Try using .loc[row_indexer,col_indexer] = value instead\n",
      "\n",
      "See the caveats in the documentation: https://pandas.pydata.org/pandas-docs/stable/user_guide/indexing.html#returning-a-view-versus-a-copy\n",
      "  self.obj[key] = _infer_fill_value(value)\n",
      "/usr/local/lib/python3.7/dist-packages/pandas/core/indexing.py:1743: SettingWithCopyWarning: \n",
      "A value is trying to be set on a copy of a slice from a DataFrame.\n",
      "Try using .loc[row_indexer,col_indexer] = value instead\n",
      "\n",
      "See the caveats in the documentation: https://pandas.pydata.org/pandas-docs/stable/user_guide/indexing.html#returning-a-view-versus-a-copy\n",
      "  isetter(ilocs[0], value)\n",
      "/usr/local/lib/python3.7/dist-packages/pandas/core/indexing.py:1743: SettingWithCopyWarning: \n",
      "A value is trying to be set on a copy of a slice from a DataFrame.\n",
      "Try using .loc[row_indexer,col_indexer] = value instead\n",
      "\n",
      "See the caveats in the documentation: https://pandas.pydata.org/pandas-docs/stable/user_guide/indexing.html#returning-a-view-versus-a-copy\n",
      "  isetter(ilocs[0], value)\n",
      "/usr/local/lib/python3.7/dist-packages/pandas/core/indexing.py:1596: SettingWithCopyWarning: \n",
      "A value is trying to be set on a copy of a slice from a DataFrame.\n",
      "Try using .loc[row_indexer,col_indexer] = value instead\n",
      "\n",
      "See the caveats in the documentation: https://pandas.pydata.org/pandas-docs/stable/user_guide/indexing.html#returning-a-view-versus-a-copy\n",
      "  self.obj[key] = _infer_fill_value(value)\n",
      "/usr/local/lib/python3.7/dist-packages/pandas/core/indexing.py:1743: SettingWithCopyWarning: \n",
      "A value is trying to be set on a copy of a slice from a DataFrame.\n",
      "Try using .loc[row_indexer,col_indexer] = value instead\n",
      "\n",
      "See the caveats in the documentation: https://pandas.pydata.org/pandas-docs/stable/user_guide/indexing.html#returning-a-view-versus-a-copy\n",
      "  isetter(ilocs[0], value)\n",
      "/usr/local/lib/python3.7/dist-packages/pandas/core/indexing.py:1743: SettingWithCopyWarning: \n",
      "A value is trying to be set on a copy of a slice from a DataFrame.\n",
      "Try using .loc[row_indexer,col_indexer] = value instead\n",
      "\n",
      "See the caveats in the documentation: https://pandas.pydata.org/pandas-docs/stable/user_guide/indexing.html#returning-a-view-versus-a-copy\n",
      "  isetter(ilocs[0], value)\n"
     ]
    }
   ],
   "source": [
    "\n",
    "num_pipeline = Pipeline(steps=[\n",
    "    ('numerical_transformer',NumericalTransformer(cols=num_cols)),\n",
    "    ('impute',SimpleImputer(strategy='median')),\n",
    "    ('standard_scalar',StandardScaler())\n",
    "])\n",
    "\n",
    "cat_pipeline = Pipeline([\n",
    "    ('cat_transformer',CategoricalTransformer(cols=cat_cols)),\n",
    "    ('one_hot_encoder',OneHotEncoder(sparse=False))\n",
    "])\n",
    "\n",
    "full_pipeline = FeatureUnion([\n",
    "\n",
    "    ('numerical_pipeline',num_pipeline),\n",
    "    ('categorical_pipeline',cat_pipeline)\n",
    "])\n",
    "\n",
    "pipe = Pipeline([\n",
    "    ('full_pipeline',full_pipeline)\n",
    "])\n",
    "\n",
    "traindf = pipe.fit_transform(X_train)\n",
    "\n",
    "testdf = pipe.transform(X_test)"
   ]
  },
  {
   "cell_type": "code",
   "execution_count": 7,
   "metadata": {
    "colab": {
     "base_uri": "https://localhost:8080/"
    },
    "executionInfo": {
     "elapsed": 15,
     "status": "ok",
     "timestamp": 1628788244107,
     "user": {
      "displayName": "Vaishali CS",
      "photoUrl": "",
      "userId": "08221778079764733474"
     },
     "user_tz": 240
    },
    "id": "WO5s3hnoE9R0",
    "outputId": "5b2d31e4-e33f-4158-f834-05d486773433"
   },
   "outputs": [
    {
     "name": "stdout",
     "output_type": "stream",
     "text": [
      "shape of data after transformation=(17580, 60)\n",
      "\n",
      "following the distribution of the Target before balancing the data\n",
      "0    24807\n",
      "1      308\n",
      "Name: Status, dtype: int64\n"
     ]
    }
   ],
   "source": [
    "print(f'shape of data after transformation={traindf.shape}')\n",
    "print(f'\\nfollowing the distribution of the Target before balancing the data')\n",
    "print(y.value_counts())"
   ]
  },
  {
   "cell_type": "code",
   "execution_count": 8,
   "metadata": {
    "colab": {
     "base_uri": "https://localhost:8080/"
    },
    "executionInfo": {
     "elapsed": 1887,
     "status": "ok",
     "timestamp": 1628788245987,
     "user": {
      "displayName": "Vaishali CS",
      "photoUrl": "",
      "userId": "08221778079764733474"
     },
     "user_tz": 240
    },
    "id": "qQyzEBFmjqG0",
    "outputId": "38363b44-dc1a-4b49-baba-9187dd467343"
   },
   "outputs": [
    {
     "name": "stderr",
     "output_type": "stream",
     "text": [
      "/usr/local/lib/python3.7/dist-packages/sklearn/externals/six.py:31: FutureWarning: The module is deprecated in version 0.21 and will be removed in version 0.23 since we've dropped support for Python 2.7. Please rely on the official version of six (https://pypi.org/project/six/).\n",
      "  \"(https://pypi.org/project/six/).\", FutureWarning)\n",
      "/usr/local/lib/python3.7/dist-packages/sklearn/utils/deprecation.py:144: FutureWarning: The sklearn.neighbors.base module is  deprecated in version 0.22 and will be removed in version 0.24. The corresponding classes / functions should instead be imported from sklearn.neighbors. Anything that cannot be imported from sklearn.neighbors is now part of the private API.\n",
      "  warnings.warn(message, FutureWarning)\n"
     ]
    },
    {
     "data": {
      "text/plain": [
       "['ex3_pipeline.pkl']"
      ]
     },
     "execution_count": 8,
     "metadata": {
      "tags": []
     },
     "output_type": "execute_result"
    }
   ],
   "source": [
    "from imblearn.over_sampling import SMOTE\n",
    "import warnings\n",
    "\n",
    "warnings.filterwarnings('ignore')\n",
    "\n",
    "smt = SMOTE(sampling_strategy='minority',random_state=42)\n",
    "X_bal,y_bal = smt.fit_resample(traindf,y_train)\n",
    "\n",
    "np.savetxt(\"xtrain.csv\", X_bal, delimiter=\",\")\n",
    "np.savetxt(\"ytrain.csv\", y_bal, delimiter=\",\")\n",
    "\n",
    "np.savetxt(\"xtest.csv\", testdf, delimiter=\",\")\n",
    "y_test.to_csv(\"ytest.csv\", index=False,header=False)\n",
    "\n",
    "joblib.dump(pipe, 'ex3_pipeline.pkl')   # include experiment # in the name\n",
    "\n",
    "\n"
   ]
  },
  {
   "cell_type": "code",
   "execution_count": 9,
   "metadata": {
    "colab": {
     "base_uri": "https://localhost:8080/"
    },
    "executionInfo": {
     "elapsed": 23,
     "status": "ok",
     "timestamp": 1628788245987,
     "user": {
      "displayName": "Vaishali CS",
      "photoUrl": "",
      "userId": "08221778079764733474"
     },
     "user_tz": 240
    },
    "id": "rJWePxA0jxMC",
    "outputId": "3cb77227-76c6-4612-fd2c-06ac73a33eb2"
   },
   "outputs": [
    {
     "name": "stdout",
     "output_type": "stream",
     "text": [
      "shape of data after up sampling using SMOTE=(34728, 60)\n",
      "\n",
      "following the distribution of the Target After balancing the data\n"
     ]
    },
    {
     "data": {
      "text/plain": [
       "(array([0, 1]), array([17364, 17364]))"
      ]
     },
     "execution_count": 9,
     "metadata": {
      "tags": []
     },
     "output_type": "execute_result"
    }
   ],
   "source": [
    "print(f'shape of data after up sampling using SMOTE={X_bal.shape}')\n",
    "print(f'\\nfollowing the distribution of the Target After balancing the data')\n",
    "np.unique(y_bal, return_counts=True)"
   ]
  },
  {
   "cell_type": "markdown",
   "metadata": {
    "id": "Mz3-3g8iauqq"
   },
   "source": [
    "## Plot Target Distribution after upsampling"
   ]
  },
  {
   "cell_type": "code",
   "execution_count": 41,
   "metadata": {
    "colab": {
     "base_uri": "https://localhost:8080/",
     "height": 370
    },
    "executionInfo": {
     "elapsed": 524,
     "status": "ok",
     "timestamp": 1628789243236,
     "user": {
      "displayName": "Vaishali CS",
      "photoUrl": "",
      "userId": "08221778079764733474"
     },
     "user_tz": 240
    },
    "id": "lO8oOHvSkA49",
    "outputId": "bc9e8ef3-e795-4737-ab4a-26398c1e810d"
   },
   "outputs": [
    {
     "data": {
      "image/png": "[encoded data removed]",
      "text/plain": [
       "<Figure size 864x360 with 2 Axes>"
      ]
     },
     "metadata": {
      "needs_background": "light",
      "tags": []
     },
     "output_type": "display_data"
    }
   ],
   "source": [
    "import matplotlib.pyplot as plt\n",
    "import seaborn as sns\n",
    "\n",
    "x_axis, y_axis = np.unique(y, return_counts=True)\n",
    "x_axis2, y_axis2 = np.unique(y_bal, return_counts=True)\n",
    "\n",
    "fig_dims = (12, 5)\n",
    "fig, (ax1, ax2) = plt.subplots(1, 2, figsize=fig_dims);\n",
    "fig.suptitle('Before & After Upsampling using SMOTE');\n",
    "sns.countplot(y, ax=  ax1);\n",
    "sns.countplot(y_bal, ax=  ax2);\n",
    "\n",
    "ax1.title.set_text('Before');\n",
    "ax2.title.set_text('After');"
   ]
  }
 ],
 "metadata": {
  "colab": {
   "authorship_tag": "ABX9TyP5akrFFvjl7fq0BU57fpt9",
   "collapsed_sections": [],
   "name": "DataPipeline_v3.ipynb",
   "provenance": []
  },
  "kernelspec": {
   "display_name": "Python 3 (ipykernel)",
   "language": "python",
   "name": "python3"
  },
  "language_info": {
   "codemirror_mode": {
    "name": "ipython",
    "version": 3
   },
   "file_extension": ".py",
   "mimetype": "text/x-python",
   "name": "python",
   "nbconvert_exporter": "python",
   "pygments_lexer": "ipython3",
   "version": "3.7.11"
  }
 },
 "nbformat": 4,
 "nbformat_minor": 1
}
