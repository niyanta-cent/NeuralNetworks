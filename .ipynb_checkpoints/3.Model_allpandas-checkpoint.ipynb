{
 "cells": [
  {
   "cell_type": "code",
   "execution_count": 1,
   "id": "1615e0a4",
   "metadata": {},
   "outputs": [],
   "source": [
    "import tensorflow as tf\n",
    "import numpy as np\n",
    "import matplotlib.pyplot as plt\n",
    "import pandas as pd\n",
    "from tensorflow.keras import layers\n",
    "from tensorflow.keras.callbacks import ModelCheckpoint, EarlyStopping\n",
    "from sklearn.model_selection import train_test_split\n"
   ]
  },
  {
   "cell_type": "code",
   "execution_count": 2,
   "id": "adcabf89",
   "metadata": {},
   "outputs": [
    {
     "name": "stdout",
     "output_type": "stream",
     "text": [
      "X_train shape =(303, 70)\n",
      "X_val shape =(34, 70)\n",
      "y_train shape =(303, 1)\n",
      "y_val shape =(34, 1)\n"
     ]
    }
   ],
   "source": [
    "\n",
    "xtrain_path = \"./data/transformed/xtrain.csv\"\n",
    "ytrain_path = \"./data/transformed/ytrain.csv\"\n",
    "\n",
    "X = pd.read_csv(xtrain_path, sep=',', header=None)\n",
    "y = pd.read_csv(ytrain_path, sep=',', header=None)\n",
    "\n",
    "X = X.to_numpy()\n",
    "y = y.to_numpy()\n",
    "\n",
    "# Assume that each row of `features` corresponds to the same row as `labels`.\n",
    "assert X.shape[0] == y.shape[0]\n",
    "\n",
    "n_features = X.shape[1]\n",
    "\n",
    "X_train, X_val, y_train, y_val = train_test_split(X, y, test_size=0.10, random_state=42)\n",
    "\n",
    "print(f\"X_train shape ={X_train.shape}\")\n",
    "print(f\"X_val shape ={X_val.shape}\")\n",
    "print(f\"y_train shape ={y_train.shape}\")\n",
    "print(f\"y_val shape ={y_val.shape}\")"
   ]
  },
  {
   "cell_type": "code",
   "execution_count": 3,
   "id": "b61f5cef",
   "metadata": {
    "scrolled": false
   },
   "outputs": [
    {
     "name": "stdout",
     "output_type": "stream",
     "text": [
      "Epoch 1/100\n",
      "10/10 [==============================] - 0s 36ms/step - loss: 1.0224 - accuracy: 0.3597 - val_loss: 0.8720 - val_accuracy: 0.3235\n",
      "Epoch 2/100\n",
      "10/10 [==============================] - 0s 12ms/step - loss: 0.8841 - accuracy: 0.4422 - val_loss: 0.7604 - val_accuracy: 0.4412\n",
      "Epoch 3/100\n",
      "10/10 [==============================] - 0s 11ms/step - loss: 0.6801 - accuracy: 0.5776 - val_loss: 0.6682 - val_accuracy: 0.5588\n",
      "Epoch 4/100\n",
      "10/10 [==============================] - 0s 8ms/step - loss: 0.6441 - accuracy: 0.6238 - val_loss: 0.5927 - val_accuracy: 0.6765\n",
      "Epoch 5/100\n",
      "10/10 [==============================] - 0s 4ms/step - loss: 0.5771 - accuracy: 0.6799 - val_loss: 0.5240 - val_accuracy: 0.6765\n",
      "Epoch 6/100\n",
      "10/10 [==============================] - 0s 9ms/step - loss: 0.5364 - accuracy: 0.6964 - val_loss: 0.4604 - val_accuracy: 0.7647\n",
      "Epoch 7/100\n",
      "10/10 [==============================] - 0s 17ms/step - loss: 0.4745 - accuracy: 0.7657 - val_loss: 0.4063 - val_accuracy: 0.8529\n",
      "Epoch 8/100\n",
      "10/10 [==============================] - 0s 15ms/step - loss: 0.4283 - accuracy: 0.8119 - val_loss: 0.3563 - val_accuracy: 0.9706\n",
      "Epoch 9/100\n",
      "10/10 [==============================] - 0s 8ms/step - loss: 0.3904 - accuracy: 0.8383 - val_loss: 0.3137 - val_accuracy: 0.9706\n",
      "Epoch 10/100\n",
      "10/10 [==============================] - 0s 2ms/step - loss: 0.3520 - accuracy: 0.8581 - val_loss: 0.2868 - val_accuracy: 0.9706\n",
      "Epoch 11/100\n",
      "10/10 [==============================] - 0s 2ms/step - loss: 0.3354 - accuracy: 0.8746 - val_loss: 0.2625 - val_accuracy: 0.9706\n",
      "Epoch 12/100\n",
      "10/10 [==============================] - 0s 3ms/step - loss: 0.3231 - accuracy: 0.8548 - val_loss: 0.2414 - val_accuracy: 0.9706\n",
      "Epoch 13/100\n",
      "10/10 [==============================] - 0s 3ms/step - loss: 0.3096 - accuracy: 0.8746 - val_loss: 0.2263 - val_accuracy: 0.9706\n"
     ]
    }
   ],
   "source": [
    "n_epochs = 100\n",
    "checkpoint_filepath = './models_allpandas/checkpoint'\n",
    "model_checkpoint_callback = ModelCheckpoint(\n",
    "    filepath=checkpoint_filepath + 'best.h5', \n",
    "    save_weights_only=True, monitor='val_accuracy', mode='max', save_best_only=True)\n",
    "\n",
    "model_early_stop = EarlyStopping(monitor='val_accuracy', mode='max', patience=5)\n",
    "\n",
    "hype_model = tf.keras.Sequential([\n",
    "  layers.Dense(32, activation='relu', kernel_initializer='glorot_uniform'),\n",
    "  layers.Dropout(rate=0.5),  \n",
    "  layers.Dense(1, activation='sigmoid')\n",
    "])\n",
    "\n",
    "hype_model.compile(loss = tf.keras.losses.BinaryCrossentropy(), metrics=['accuracy'],\n",
    "                      optimizer = tf.optimizers.Adam())\n",
    "\n",
    "history = hype_model.fit(X_train, y_train, epochs=n_epochs, callbacks=[model_checkpoint_callback, model_early_stop], \n",
    "                          validation_data=(X_val, y_val))"
   ]
  },
  {
   "cell_type": "code",
   "execution_count": 4,
   "id": "760672f9",
   "metadata": {},
   "outputs": [
    {
     "data": {
      "image/png": "[encoded data removed]",
      "text/plain": [
       "<Figure size 432x288 with 1 Axes>"
      ]
     },
     "metadata": {
      "needs_background": "light"
     },
     "output_type": "display_data"
    }
   ],
   "source": [
    "plt.plot(history.history['accuracy'])\n",
    "plt.plot(history.history['val_accuracy'])\n",
    "plt.title('model accuracy')\n",
    "plt.ylabel('accuracy')\n",
    "plt.xlabel('epochs')\n",
    "plt.legend(['train', 'val'], loc='upper left')\n",
    "plt.show()"
   ]
  },
  {
   "cell_type": "code",
   "execution_count": null,
   "id": "bf7dcf3b",
   "metadata": {},
   "outputs": [],
   "source": []
  }
 ],
 "metadata": {
  "kernelspec": {
   "display_name": "Python 3 (ipykernel)",
   "language": "python",
   "name": "python3"
  },
  "language_info": {
   "codemirror_mode": {
    "name": "ipython",
    "version": 3
   },
   "file_extension": ".py",
   "mimetype": "text/x-python",
   "name": "python",
   "nbconvert_exporter": "python",
   "pygments_lexer": "ipython3",
   "version": "3.7.11"
  }
 },
 "nbformat": 4,
 "nbformat_minor": 5
}
