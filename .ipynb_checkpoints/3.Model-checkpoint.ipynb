{
 "cells": [
  {
   "cell_type": "markdown",
   "id": "c01d8d6e",
   "metadata": {},
   "source": [
    "# Build and FineTune Neural Network\n",
    "\n",
    "This notebook loads the cleaned data and trains a shallow neural network"
   ]
  },
  {
   "cell_type": "markdown",
   "id": "e2fbccb8",
   "metadata": {},
   "source": [
    "## Load data"
   ]
  },
  {
   "cell_type": "code",
   "execution_count": null,
   "id": "ca6a9bf5",
   "metadata": {},
   "outputs": [],
   "source": [
    "import tensorflow as tf\n",
    "import numpy as np\n",
    "import matplotlib.pyplot as plt\n",
    "import pandas as pd\n",
    "from tensorflow.keras import layers\n",
    "from tensorflow.keras.callbacks import ModelCheckpoint, EarlyStopping"
   ]
  },
  {
   "cell_type": "code",
   "execution_count": null,
   "id": "04dac18f",
   "metadata": {},
   "outputs": [],
   "source": [
    "\n",
    "xtrain_path = \"./data/transformed/xtrain.csv\"\n",
    "ytrain_path = \"./data/transformed/ytrain.csv\"\n",
    "\n",
    "X = pd.read_csv(xtrain_path, sep=',', header=None)\n",
    "y = pd.read_csv(ytrain_path, sep=',', header=None)\n",
    "\n",
    "X = X.to_numpy()\n",
    "y = y.to_numpy()\n",
    "\n",
    "# Assume that each row of `features` corresponds to the same row as `labels`.\n",
    "assert X.shape[0] == y.shape[0]\n",
    "\n",
    "n_features = X.shape[1]\n"
   ]
  },
  {
   "cell_type": "code",
   "execution_count": null,
   "id": "9257d4f9",
   "metadata": {},
   "outputs": [],
   "source": [
    "full_dataset = tf.data.Dataset.from_tensor_slices((X, y))"
   ]
  },
  {
   "cell_type": "code",
   "execution_count": null,
   "id": "42f0c8e7",
   "metadata": {},
   "outputs": [],
   "source": [
    "for item in full_dataset:\n",
    "    print(item)\n",
    "    break"
   ]
  },
  {
   "cell_type": "markdown",
   "id": "35f2d8d8",
   "metadata": {},
   "source": [
    "## Train the model"
   ]
  },
  {
   "cell_type": "code",
   "execution_count": null,
   "id": "cc54fe50",
   "metadata": {},
   "outputs": [],
   "source": [
    "BATCH_SIZE = 10\n",
    "SHUFFLE_BUFFER_SIZE = 100\n",
    "\n",
    "full_ds_size  = X.shape[0]\n",
    "train_ds_size = int(0.80 * full_ds_size)\n",
    "steps = (0.80 * full_ds_size)//BATCH_SIZE\n",
    "train_dataset = full_dataset.take(train_ds_size)\n",
    "val_dataset = train_dataset.skip(train_ds_size)  \n",
    "\n",
    "train_dataset_batch = train_dataset.shuffle(SHUFFLE_BUFFER_SIZE).batch(BATCH_SIZE)\n",
    "val_dataset=val_dataset.batch(BATCH_SIZE)\n",
    "\n",
    "n_epochs = 50\n",
    "checkpoint_filepath = './models/checkpoint'\n",
    "model_checkpoint_callback = ModelCheckpoint(\n",
    "    filepath=checkpoint_filepath + 'best.h5', \n",
    "    save_weights_only=True, monitor='val_accuracy', mode='max', save_best_only=True)\n",
    "\n",
    "model_early_stop = EarlyStopping(monitor='val_accuracy', mode='max', patience=2)"
   ]
  },
  {
   "cell_type": "code",
   "execution_count": null,
   "id": "287491bc",
   "metadata": {},
   "outputs": [],
   "source": [
    "hype_model = tf.keras.Sequential([\n",
    "  layers.Dense(32, activation='relu', kernel_initializer='glorot_uniform'),\n",
    "  layers.Dropout(rate=0.5),  \n",
    "  layers.Dense(1, activation='sigmoid')\n",
    "])\n",
    "\n",
    "hype_model.compile(loss = tf.keras.losses.BinaryCrossentropy(), metrics=['accuracy'],\n",
    "                      optimizer = tf.optimizers.Adam())"
   ]
  },
  {
   "cell_type": "code",
   "execution_count": null,
   "id": "ec759301",
   "metadata": {
    "scrolled": true
   },
   "outputs": [],
   "source": [
    "history = hype_model.fit(train_dataset_batch.repeat(), epochs=n_epochs, callbacks=[model_checkpoint_callback, model_early_stop], \n",
    "                          steps_per_epoch = steps, validation_steps=10, validation_data=val_dataset.repeat())"
   ]
  },
  {
   "cell_type": "code",
   "execution_count": null,
   "id": "9796ee4e",
   "metadata": {},
   "outputs": [],
   "source": [
    "hype_model.summary()"
   ]
  },
  {
   "cell_type": "code",
   "execution_count": null,
   "id": "78207b79",
   "metadata": {},
   "outputs": [],
   "source": [
    "plt.plot(history.history['accuracy'])\n",
    "plt.plot(history.history['loss'])\n",
    "plt.title('model accuracy')\n",
    "plt.ylabel('accuracy')\n",
    "plt.xlabel('epoch')\n",
    "plt.legend(['accuracy', 'loss'], loc='upper left')\n",
    "plt.show()"
   ]
  },
  {
   "cell_type": "code",
   "execution_count": null,
   "id": "562c6b66",
   "metadata": {},
   "outputs": [],
   "source": [
    "history.history.keys()"
   ]
  },
  {
   "cell_type": "code",
   "execution_count": null,
   "id": "4cbafc77",
   "metadata": {},
   "outputs": [],
   "source": []
  },
  {
   "cell_type": "code",
   "execution_count": null,
   "id": "41f570d7",
   "metadata": {},
   "outputs": [],
   "source": []
  },
  {
   "cell_type": "code",
   "execution_count": null,
   "id": "fb73c8fa",
   "metadata": {},
   "outputs": [],
   "source": []
  },
  {
   "cell_type": "code",
   "execution_count": null,
   "id": "feda3871",
   "metadata": {},
   "outputs": [],
   "source": []
  },
  {
   "cell_type": "code",
   "execution_count": null,
   "id": "9daf02ab",
   "metadata": {},
   "outputs": [],
   "source": [
    "xtest_path = \"./data/transformed/xtest.csv\"\n",
    "ytest_path = \"./data/transformed/ytest.csv\"\n",
    "\n",
    "a = pd.read_csv(xtest_path, sep=',', header=None)\n",
    "b = pd.read_csv(ytest_path, sep=',', header=None)\n",
    "\n",
    "a = a.to_numpy()\n",
    "b = b.to_numpy()\n"
   ]
  },
  {
   "cell_type": "code",
   "execution_count": null,
   "id": "ead2abbd",
   "metadata": {},
   "outputs": [],
   "source": []
  },
  {
   "cell_type": "code",
   "execution_count": null,
   "id": "a5102d75",
   "metadata": {},
   "outputs": [],
   "source": [
    "hype_model.evaluate(a, b)"
   ]
  },
  {
   "cell_type": "code",
   "execution_count": null,
   "id": "4d755ed3",
   "metadata": {},
   "outputs": [],
   "source": []
  }
 ],
 "metadata": {
  "kernelspec": {
   "display_name": "Python 3 (ipykernel)",
   "language": "python",
   "name": "python3"
  },
  "language_info": {
   "codemirror_mode": {
    "name": "ipython",
    "version": 3
   },
   "file_extension": ".py",
   "mimetype": "text/x-python",
   "name": "python",
   "nbconvert_exporter": "python",
   "pygments_lexer": "ipython3",
   "version": "3.7.11"
  }
 },
 "nbformat": 4,
 "nbformat_minor": 5
}
